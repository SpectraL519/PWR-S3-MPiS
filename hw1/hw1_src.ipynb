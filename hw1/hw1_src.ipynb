{
 "cells": [
  {
   "cell_type": "markdown",
   "metadata": {},
   "source": [
    "#  MPiS - Homework 1"
   ]
  },
  {
   "cell_type": "markdown",
   "metadata": {},
   "source": [
    "### Imports"
   ]
  },
  {
   "cell_type": "code",
   "execution_count": null,
   "metadata": {},
   "outputs": [],
   "source": [
    "import numpy as np\n",
    "import math\n",
    "import random\n",
    "\n",
    "import matplotlib.pyplot as plt"
   ]
  },
  {
   "cell_type": "markdown",
   "metadata": {},
   "source": [
    "### General functions and variables"
   ]
  },
  {
   "cell_type": "code",
   "execution_count": null,
   "metadata": {},
   "outputs": [],
   "source": [
    "def plotResults(experiment_results, N, expected_value, figsize=(15,8)):\n",
    "    assert isinstance(experiment_results, list), \"Invalid type of 'experiment_results' - must be list\"\n",
    "    assert isinstance(N, list), \"Invalid type of 'N' - must be list\"\n",
    "    assert isinstance(expected_value, int) or isinstance(expected_value, float), \"Invalid type of 'expected_value' - must be int or float\"\n",
    "    assert isinstance(figsize, tuple), \"Invalid type of 'figsize' - must be tuple\"\n",
    "\n",
    "    plt.figure(figsize=figsize)\n",
    "    for i in range(len(experiment_results)):\n",
    "        plt.scatter([N[i] for _ in range(len(experiment_results[i]))], experiment_results[i], \n",
    "                    color='blue', s=10)\n",
    "        plt.scatter(N[i], np.mean(experiment_results[i]), \n",
    "                    color='red', s=100)\n",
    "\n",
    "    plt.plot(np.linspace(0, 5000, 1000), [expected_value for _ in range(1000)],\n",
    "             color='green', linewidth=3)\n",
    "\n",
    "    plt.xlabel('n - number of randomly selected points')\n",
    "             \n",
    "    plt.show();"
   ]
  },
  {
   "cell_type": "code",
   "execution_count": null,
   "metadata": {},
   "outputs": [],
   "source": [
    "# The list of n values (number of points)\n",
    "N = [50 * t for t in range(1, 101)]\n",
    "\n",
    "# The number of experiment reruns\n",
    "k = 50"
   ]
  },
  {
   "cell_type": "markdown",
   "metadata": {},
   "source": [
    "## a) Calculating function integral estimations"
   ]
  },
  {
   "cell_type": "markdown",
   "metadata": {},
   "source": [
    "### Variable and function declarations"
   ]
  },
  {
   "cell_type": "code",
   "execution_count": null,
   "metadata": {},
   "outputs": [],
   "source": [
    "def functionA(x):\n",
    "    assert isinstance(x, int) or isinstance(x, float), \"Invalid type of 'x' - must be int or float\"\n",
    "    return x ** (1/3)\n",
    "\n",
    "\n",
    "def functionB(x):\n",
    "    assert isinstance(x, int) or isinstance(x, float), \"Invalid type of 'x' - must be int or float\"\n",
    "    return math.sin(x)\n",
    "\n",
    "\n",
    "def functionC(x):\n",
    "    assert isinstance(x, int) or isinstance(x, float), \"Invalid type of 'x' - must be int or float\"\n",
    "    return 4 * x * (1 - x) ** 3\n",
    "\n",
    "\n",
    "def getRandomNumber(a, b):\n",
    "    assert isinstance(a, int) or isinstance(a, float), \"Invalid type of 'a' - must be int or float\"\n",
    "    assert isinstance(b, int) or isinstance(b, float), \"Invalid type of 'b' - must be int or float\"\n",
    "    assert a < b, \"Invalid values of 'a' and 'b' - 'b' must be greater than 'a'\"\n",
    "    return a + (b - a) * random.random()\n",
    "\n",
    "\n",
    "def runExperiment(experiment_params, n_points, n_reruns):\n",
    "    assert isinstance(experiment_params, tuple), \"Invalid type of 'experiment_params' - must be tuple\"\n",
    "    assert len(experiment_params) == 4, \"Invalid length of 'experiment_params' - must be 4\"\n",
    "    assert isinstance(n_points, int), \"Invalid type of 'n_points' - must be int\"\n",
    "    assert isinstance(n_reruns, int), \"Invalid type of 'n_reruns' - must be int\"\n",
    "\n",
    "    # Getting ranges\n",
    "    a = experiment_params[0]\n",
    "    b = experiment_params[1]\n",
    "    M = experiment_params[2]\n",
    "    assert isinstance(a, int) or isinstance(a, float), \"Invalid type of 'experiment[0]' - must be int or float\"\n",
    "    assert isinstance(b, int) or isinstance(b, float), \"Invalid type of 'experiment[1]' - must be int or float\"\n",
    "    assert isinstance(M, int) or isinstance(M, float), \"Invalid type of 'experiment[2]' - must be int or float\"\n",
    "\n",
    "    # Declaring the space's surface\n",
    "    S = abs((b - a) * M)\n",
    "\n",
    "    # Getting the function\n",
    "    f = experiment_params[3]\n",
    "    assert callable(f), \"Invalid type of 'experiment[3]' - must be function\"\n",
    "\n",
    "    # Conducting the experiments\n",
    "    random_points = {}\n",
    "    results = []\n",
    "    for r in range(n_reruns):\n",
    "        random_points[r] = [(getRandomNumber(a, b), getRandomNumber(0, M)) for _ in range(n_points)]\n",
    "        n_points_below = 0\n",
    "        for p in random_points[r]:\n",
    "            if p[1] <= f(p[0]):\n",
    "                n_points_below += 1\n",
    "        results.append((n_points_below / n_points) * S)\n",
    "    \n",
    "    return results"
   ]
  },
  {
   "cell_type": "code",
   "execution_count": null,
   "metadata": {},
   "outputs": [],
   "source": [
    "experiment_params = {\n",
    "    # Format: 'experiment_name': (a, b, M, f)\n",
    "    'A': (0, 8, functionA(8), functionA), # functionA has it's max value (in [0, 8]) for x=8\n",
    "    'B': (0, math.pi, 1, functionB),\n",
    "    'C': (0, 1, functionC(0.25), functionC) # functionC has it's max value (in [0, 1]) for x=0.25 \n",
    "}\n",
    "\n",
    "expected_results = {\n",
    "    'A': 12,\n",
    "    'B': 2,\n",
    "    'C': 0.2\n",
    "}"
   ]
  },
  {
   "cell_type": "markdown",
   "metadata": {},
   "source": [
    "### Cunducting the experiments"
   ]
  },
  {
   "cell_type": "code",
   "execution_count": null,
   "metadata": {},
   "outputs": [],
   "source": [
    "results = {}\n",
    "for key in experiment_params.keys():\n",
    "    results[key] = [runExperiment(experiment_params[key], n, k) for n in N]"
   ]
  },
  {
   "cell_type": "code",
   "execution_count": null,
   "metadata": {},
   "outputs": [],
   "source": [
    "plotResults(results['A'], N, expected_results['A'])"
   ]
  },
  {
   "cell_type": "code",
   "execution_count": null,
   "metadata": {},
   "outputs": [],
   "source": [
    "plotResults(results['B'], N, expected_results['B'])"
   ]
  },
  {
   "cell_type": "code",
   "execution_count": null,
   "metadata": {},
   "outputs": [],
   "source": [
    "plotResults(results['C'], N, expected_results['C'])"
   ]
  },
  {
   "cell_type": "markdown",
   "metadata": {},
   "source": [
    "## b) Calculating the surface of a circle"
   ]
  },
  {
   "cell_type": "markdown",
   "metadata": {},
   "source": [
    "### Variable and function declarations"
   ]
  },
  {
   "cell_type": "code",
   "execution_count": null,
   "metadata": {},
   "outputs": [],
   "source": [
    "def distance(x, y, center_x, center_y):\n",
    "    assert isinstance(x, int) or isinstance(x, float), \"Invalid type of 'x' - must be int or float\"\n",
    "    assert isinstance(y, int) or isinstance(y, float), \"Invalid type of 'y' - must be int or float\"\n",
    "    assert isinstance(center_x, int) or isinstance(center_x, float), \"Invalid type of 'x' - must be int or float\"\n",
    "    assert isinstance(center_y, int) or isinstance(center_y, float), \"Invalid type of 'y' - must be int or float\"\n",
    "    return math.sqrt((x - center_x) ** 2 + (y - center_y) ** 2)\n",
    "\n",
    "\n",
    "def runPiExperiment(n_points, n_reruns):\n",
    "    assert isinstance(n_points, int), \"Invalid type of 'n_points' - must be int\"\n",
    "    assert isinstance(n_reruns, int), \"Invalid type of 'n_reruns' - must be int\"\n",
    "\n",
    "    # Conducting the experiments\n",
    "    random_points = {}\n",
    "    results = []\n",
    "    for r in range(n_reruns):\n",
    "        random_points[r] = [(getRandomNumber(0, 2), getRandomNumber(0, 2)) for _ in range(n_points)]\n",
    "        n_points_within = 0\n",
    "        for p in random_points[r]:\n",
    "            if distance(p[0], p[1], 1, 1) <= 1:\n",
    "                n_points_within += 1\n",
    "        results.append((n_points_within / n_points) * 4)\n",
    "    \n",
    "    return results"
   ]
  },
  {
   "cell_type": "markdown",
   "metadata": {},
   "source": [
    "### Cundicting experiments"
   ]
  },
  {
   "cell_type": "code",
   "execution_count": null,
   "metadata": {},
   "outputs": [],
   "source": [
    "pi_results = [runPiExperiment(n, k) for n in N]"
   ]
  },
  {
   "cell_type": "code",
   "execution_count": null,
   "metadata": {},
   "outputs": [],
   "source": [
    "plotResults(pi_results, N, math.pi)"
   ]
  }
 ],
 "metadata": {
  "kernelspec": {
   "display_name": "Python 3.9.13 ('mpis')",
   "language": "python",
   "name": "python3"
  },
  "language_info": {
   "codemirror_mode": {
    "name": "ipython",
    "version": 3
   },
   "file_extension": ".py",
   "mimetype": "text/x-python",
   "name": "python",
   "nbconvert_exporter": "python",
   "pygments_lexer": "ipython3",
   "version": "3.9.13"
  },
  "orig_nbformat": 4,
  "vscode": {
   "interpreter": {
    "hash": "e3f8b5698cd39ed39688f65de903fa661ec26daeb8af358b39b10c40871c006f"
   }
  }
 },
 "nbformat": 4,
 "nbformat_minor": 2
}
