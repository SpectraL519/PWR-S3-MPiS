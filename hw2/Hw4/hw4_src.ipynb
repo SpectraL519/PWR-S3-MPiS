{
 "cells": [
  {
   "attachments": {},
   "cell_type": "markdown",
   "metadata": {},
   "source": [
    "# Imports"
   ]
  },
  {
   "cell_type": "code",
   "execution_count": null,
   "metadata": {},
   "outputs": [],
   "source": [
    "import numpy as np\n",
    "import pandas as pd\n",
    "import networkx as nx\n",
    "\n",
    "import matplotlib.pyplot as plt\n",
    "\n",
    "import os\n",
    "import subprocess"
   ]
  },
  {
   "attachments": {},
   "cell_type": "markdown",
   "metadata": {},
   "source": [
    "# Utils"
   ]
  },
  {
   "cell_type": "code",
   "execution_count": null,
   "metadata": {},
   "outputs": [],
   "source": [
    "N = np.arange(100, 2050, step=np.int32(50))\n",
    "\n",
    "graph_types = ['complete', 'path_end', 'path_middle', 'tree', 'lollipop']\n",
    "files = pd.DataFrame({\n",
    "    'matrix': ['matrices/' + type + '.csv' for type in graph_types],\n",
    "    'result': ['results/' + type + '.csv' for type in graph_types],\n",
    "    'savefig': ['plot_images/' + type + '.png' for type in graph_types]\n",
    "}, index=graph_types)\n",
    "\n",
    "\n",
    "\n",
    "def _adj_matrix(G: nx.Graph(), export: str = None, v0: callable or int = 0):\n",
    "    adj_m = nx.to_pandas_adjacency(G, dtype=np.int32)\n",
    "\n",
    "    if export:\n",
    "        with open(export, 'a') as file:\n",
    "            n = len(G.nodes)\n",
    "            if callable(v0): file.write(f\"{n} {v0(n)}\\n\")\n",
    "            else: file.write(f\"{n} {int(v0)}\\n\")\n",
    "        adj_m.to_csv(export, mode='a', sep=' ', index=False, header=False)\n",
    "\n",
    "    return adj_m\n",
    "\n",
    "\n",
    "\n",
    "def _plot_result(df: pd.DataFrame, graph: str, F: list, F_names: list, save: str = None):\n",
    "    assert all([callable(f) for f in F]), \"All elements in functions must be callable!\"\n",
    "    assert len(F_names) == len(F), \"F_names must have the same length as F!\"\n",
    "\n",
    "    fig = plt.figure(figsize=(10, 10))\n",
    "    nf = len(F)\n",
    "    axs = [plt.subplot2grid((2, nf), (0, 0), colspan=nf)]\n",
    "    plt.subplots_adjust(hspace=0.2, wspace=0.15)\n",
    "\n",
    "    axs[0].set_title(f\"{graph} graph random walk cover times\")\n",
    "    for (n, times) in df.iteritems():\n",
    "        axs[0].scatter([n] * times.shape[0], times, color='blue', s=5)\n",
    "    axs[0].scatter(df.columns, df.mean(), color='red', s=20)\n",
    "    axs[0].set_xticklabels(df.columns, rotation=45)\n",
    "    axs[0].set_xlabel(\"$n$ - graph size\")\n",
    "    axs[0].set_ylabel(\"$T(n)$ - cover time\")\n",
    "\n",
    "    mean_vals = df.mean()\n",
    "    for i in range(nf):\n",
    "        ax_i = i + 1\n",
    "        axs.append(plt.subplot2grid((2, nf), (1, i), colspan=1))\n",
    "        axs[ax_i].set_xlabel(\"n - graph size\")\n",
    "        axs[ax_i].set_ylabel(\"$\\\\frac{E(T(n))}{f(n)}$\" + f\"\\t$f = {F_names[i]}$\")\n",
    "\n",
    "        plot_vals = mean_vals / F[i](mean_vals.index.values.astype(np.int64))\n",
    "        print(f\"Plot values < 0: {(plot_vals <= 0).any()}\")\n",
    "        axs[ax_i].grid()\n",
    "        axs[ax_i].scatter(mean_vals.index, plot_vals, color=\"blue\", s=10)\n",
    "        axs[ax_i].set_xticklabels(mean_vals.index, rotation=45)\n",
    "        plot_min = min(plot_vals)\n",
    "        plot_max = max(plot_vals)\n",
    "        axs[ax_i].set_ylim(plot_min + (plot_min - plot_max), plot_max + (plot_max - plot_min))\n",
    "\n",
    "    if save: plt.savefig(save)\n",
    "\n",
    "    plt.show();\n",
    "    \n",
    "\n",
    "\n",
    "def _nln(n):\n",
    "    return n * np.log(n)\n",
    "\n",
    "def _nlnln(n):\n",
    "    return n * np.log(n) ** 2\n",
    "\n",
    "def _square(n):\n",
    "    return n ** 2\n",
    "\n",
    "def _cube(n):\n",
    "    return n ** 3"
   ]
  },
  {
   "attachments": {},
   "cell_type": "markdown",
   "metadata": {},
   "source": [
    "# Experiments"
   ]
  },
  {
   "cell_type": "code",
   "execution_count": null,
   "metadata": {},
   "outputs": [],
   "source": [
    "subprocess.run(\"g++ -o hw4 hw4_src.cpp\".split())"
   ]
  },
  {
   "attachments": {},
   "cell_type": "markdown",
   "metadata": {},
   "source": [
    "* Complete graph"
   ]
  },
  {
   "cell_type": "code",
   "execution_count": null,
   "metadata": {},
   "outputs": [],
   "source": [
    "if os.path.exists(files.matrix['complete']): os.remove(files.matrix['complete'])\n",
    "for n in N:\n",
    "    complete = nx.complete_graph(n, create_using=nx.Graph())\n",
    "    _adj_matrix(complete, export=files.matrix['complete'])\n",
    "\n",
    "subprocess.run(['./hw4.exe', 'complete'])"
   ]
  },
  {
   "cell_type": "code",
   "execution_count": null,
   "metadata": {},
   "outputs": [],
   "source": [
    "complete_results = pd.read_csv(files.result['complete'], index_col=0)\n",
    "_plot_result(complete_results, graph='Complete', F=[_nln], F_names=['n*ln(n)'], save=files.savefig['complete'])\n",
    "complete_results"
   ]
  },
  {
   "attachments": {},
   "cell_type": "markdown",
   "metadata": {},
   "source": [
    "* Path graph (starting at an end)"
   ]
  },
  {
   "cell_type": "code",
   "execution_count": null,
   "metadata": {},
   "outputs": [],
   "source": [
    "if os.path.exists(files.matrix['path_end']): os.remove(files.matrix['path_end'])\n",
    "for n in N:\n",
    "    path_end = nx.path_graph(n, create_using=nx.Graph())\n",
    "    _adj_matrix(path_end, export=files.matrix['path_end'])\n",
    "\n",
    "subprocess.run(['./hw4.exe', 'path_end'])"
   ]
  },
  {
   "cell_type": "code",
   "execution_count": null,
   "metadata": {},
   "outputs": [],
   "source": [
    "path_end_results = pd.read_csv(files.result['path_end'], index_col=0)\n",
    "_plot_result(path_end_results, graph='Path (starting at an end)', F=[_square], F_names=['n^2'], save=files.savefig['path_end'])\n",
    "path_end_results"
   ]
  },
  {
   "attachments": {},
   "cell_type": "markdown",
   "metadata": {},
   "source": [
    "* Path graph (starting in the middle)"
   ]
  },
  {
   "cell_type": "code",
   "execution_count": null,
   "metadata": {},
   "outputs": [],
   "source": [
    "def _half(n):\n",
    "    return n // 2\n",
    "\n",
    "if os.path.exists(files.matrix['path_middle']): os.remove(files.matrix['path_middle'])\n",
    "for n in N:\n",
    "    path_middle = nx.path_graph(n, create_using=nx.Graph())\n",
    "    _adj_matrix(path_middle, export=files.matrix['path_middle'], v0=_half)\n",
    "\n",
    "subprocess.run(['./hw4.exe', 'path_middle'])"
   ]
  },
  {
   "cell_type": "code",
   "execution_count": null,
   "metadata": {},
   "outputs": [],
   "source": [
    "path_middle_results = pd.read_csv(files.result['path_middle'], index_col=0)\n",
    "_plot_result(path_middle_results, graph='Path (starting in the middle)', F=[_square], F_names=['n^2'], save=files.savefig['path_middle'])\n",
    "path_middle_results"
   ]
  },
  {
   "attachments": {},
   "cell_type": "markdown",
   "metadata": {},
   "source": [
    "* Balanced tree graph"
   ]
  },
  {
   "cell_type": "code",
   "execution_count": null,
   "metadata": {},
   "outputs": [],
   "source": [
    "if os.path.exists(files.matrix['tree']): os.remove(files.matrix['tree'])\n",
    "for n in N:\n",
    "    logn = int(np.ceil(np.log2(n)))\n",
    "    tree = nx.balanced_tree(2, logn, create_using=nx.Graph())\n",
    "    tree.remove_nodes_from(np.arange(n, len(tree.nodes)))\n",
    "    _adj_matrix(tree, export=files.matrix['tree'])\n",
    "\n",
    "subprocess.run(['./hw4.exe', 'tree'])"
   ]
  },
  {
   "cell_type": "code",
   "execution_count": null,
   "metadata": {},
   "outputs": [],
   "source": [
    "tree_results = pd.read_csv(files.result['tree'], index_col=0)\n",
    "_plot_result(tree_results, graph='Tree', F=[_nlnln], F_names=['n*ln(n)*ln(n)'], save=files.savefig['tree'])\n",
    "tree_results"
   ]
  },
  {
   "attachments": {},
   "cell_type": "markdown",
   "metadata": {},
   "source": [
    "* Lollipop graph"
   ]
  },
  {
   "cell_type": "code",
   "execution_count": null,
   "metadata": {},
   "outputs": [],
   "source": [
    "if os.path.exists(files.matrix['lollipop']): os.remove(files.matrix['lollipop'])\n",
    "for n in N:\n",
    "    clique_size = (2 * n) // 3\n",
    "    path_size = n - clique_size\n",
    "    lollipop = nx.lollipop_graph(clique_size, path_size, create_using=nx.Graph())\n",
    "    _adj_matrix(lollipop, export=files.matrix['lollipop'])\n",
    "\n",
    "subprocess.run(['./hw4.exe', 'lollipop'])"
   ]
  },
  {
   "cell_type": "code",
   "execution_count": null,
   "metadata": {},
   "outputs": [],
   "source": [
    "lollipop_results = pd.read_csv(files.result['lollipop'], index_col=0)\n",
    "_plot_result(lollipop_results, graph='Lollipop', F=[_cube], F_names=['n^3'], save=files.savefig['lollipop'])\n",
    "lollipop_results"
   ]
  },
  {
   "cell_type": "code",
   "execution_count": null,
   "metadata": {},
   "outputs": [],
   "source": []
  }
 ],
 "metadata": {
  "kernelspec": {
   "display_name": "Python 3.9.13 ('mpis')",
   "language": "python",
   "name": "python3"
  },
  "language_info": {
   "codemirror_mode": {
    "name": "ipython",
    "version": 3
   },
   "file_extension": ".py",
   "mimetype": "text/x-python",
   "name": "python",
   "nbconvert_exporter": "python",
   "pygments_lexer": "ipython3",
   "version": "3.9.13"
  },
  "orig_nbformat": 4,
  "vscode": {
   "interpreter": {
    "hash": "e17f86ae1fbb49760de3e3b51b8fcc4244d9ec8148d014cb796b4b061e085bf5"
   }
  }
 },
 "nbformat": 4,
 "nbformat_minor": 2
}
