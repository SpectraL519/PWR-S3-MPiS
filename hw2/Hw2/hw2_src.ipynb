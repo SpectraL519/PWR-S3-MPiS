{
 "cells": [
  {
   "cell_type": "markdown",
   "metadata": {},
   "source": [
    "# Imports"
   ]
  },
  {
   "cell_type": "code",
   "execution_count": null,
   "metadata": {},
   "outputs": [],
   "source": [
    "import random\n",
    "import numpy as np\n",
    "import pandas as pd\n",
    "\n",
    "import matplotlib.pyplot as plt\n",
    "from matplotlib import gridspec"
   ]
  },
  {
   "cell_type": "markdown",
   "metadata": {},
   "source": [
    "# Function definitions"
   ]
  },
  {
   "cell_type": "code",
   "execution_count": null,
   "metadata": {},
   "outputs": [],
   "source": [
    "def identical(n):\n",
    "    return n\n",
    "\n",
    "def square(n):\n",
    "    return n ** 2\n",
    "\n",
    "def nln(n):\n",
    "    return n * np.log(n)\n",
    "\n",
    "def lnDouble(n):\n",
    "    return np.log(np.log(n))\n",
    "\n",
    "def lnComplex(n):\n",
    "    return np.log(n) / lnDouble(n)\n",
    "\n",
    "def nlnDouble(n):\n",
    "    return n * lnDouble(n)\n",
    "\n",
    "\n",
    "\n",
    "def plotStatistic(values: pd.Series, N: pd.Series, functions: list, function_names: list, statistic_name=\"Statistic\"):\n",
    "    assert values.shape == N.shape, \"Mismatched shapes!\"\n",
    "    assert all([callable(f) for f in functions]), \"All elements in functions must be callable!\"\n",
    "\n",
    "    N_unique = N.unique()\n",
    "\n",
    "    nf = len(functions)\n",
    "    fig = plt.figure(figsize=(15, 10))\n",
    "    plt.subplots_adjust(hspace=0.2, wspace=0.15)\n",
    "\n",
    "    axs = [plt.subplot2grid((2, nf), (0, 0), colspan=nf)]\n",
    "    axs[0].set_title(f\"{statistic_name} values distribution\")\n",
    "    axs[0].set_xlabel(\"n - number of urns\")\n",
    "    axs[0].set_ylabel(f\"{statistic_name} value\")\n",
    "    axs[0].grid()\n",
    "    axs[0].scatter(N, values, color='blue', s=5)\n",
    "    for n_urns in N_unique:\n",
    "        n = N[N == n_urns]\n",
    "        mean = np.mean(values[n.index])\n",
    "        axs[0].scatter(n_urns, mean, color=\"red\", s=20)\n",
    "\n",
    "\n",
    "    mean_vals = pd.Series([np.mean(values[N[N == n_urns].index]) for n_urns in N_unique])\n",
    "    for i in range(nf):\n",
    "        ax_i = i + 1\n",
    "        axs.append(plt.subplot2grid((2, nf), (1, i), colspan=1))\n",
    "        axs[ax_i].set_title(f\"mean({statistic_name}) / {function_names[i]}\")\n",
    "        axs[ax_i].set_xlabel(\"n - number of urns\")\n",
    "\n",
    "        plot_vals = mean_vals / functions[i](N_unique)\n",
    "        axs[ax_i].grid()\n",
    "        axs[ax_i].scatter(N_unique, plot_vals, color=\"blue\", s=10)\n",
    "        plot_min = min(plot_vals)\n",
    "        plot_max = max(plot_vals)\n",
    "        axs[ax_i].set_ylim(plot_min + (plot_min - plot_max), plot_max + (plot_max - plot_min))\n",
    "\n",
    "    plt.show();"
   ]
  },
  {
   "cell_type": "markdown",
   "metadata": {},
   "source": [
    "# Reading data and plotting experiment results"
   ]
  },
  {
   "cell_type": "code",
   "execution_count": null,
   "metadata": {},
   "outputs": [],
   "source": [
    "results = pd.read_csv(\"hw2_results.csv\")\n",
    "results"
   ]
  },
  {
   "cell_type": "code",
   "execution_count": null,
   "metadata": {},
   "outputs": [],
   "source": [
    "plotStatistic(values=results[\"Bn\"], N=results[\"n_urns\"], \n",
    "              functions = [identical, np.sqrt], function_names=[\"n\", \"sqrt(n)\"],\n",
    "              statistic_name=\"Bn\")"
   ]
  },
  {
   "cell_type": "code",
   "execution_count": null,
   "metadata": {},
   "outputs": [],
   "source": [
    "plotStatistic(values=results[\"Un\"], N=results[\"n_urns\"], \n",
    "              functions=[identical], function_names=[\"n\"],\n",
    "              statistic_name=\"Un\")"
   ]
  },
  {
   "cell_type": "code",
   "execution_count": null,
   "metadata": {},
   "outputs": [],
   "source": [
    "plotStatistic(values=results[\"Ln\"], N=results[\"n_urns\"], \n",
    "              functions=[np.log, lnComplex, lnDouble], function_names=[\"ln(n)\", \"(ln(n) / ln(ln(n)))\", \"ln(ln(n))\"],\n",
    "              statistic_name=\"Ln\")"
   ]
  },
  {
   "cell_type": "code",
   "execution_count": null,
   "metadata": {},
   "outputs": [],
   "source": [
    "plotStatistic(values=results[\"Cn\"], N=results[\"n_urns\"], \n",
    "              functions=[identical, nln, square], function_names=[\"n\", \"(n * ln(n))\", \"n^2\"],\n",
    "              statistic_name=\"Cn\")"
   ]
  },
  {
   "cell_type": "code",
   "execution_count": null,
   "metadata": {},
   "outputs": [],
   "source": [
    "plotStatistic(values=results[\"Dn\"], N=results[\"n_urns\"], \n",
    "              functions=[identical, nln, square], function_names=[\"n\", \"(n * ln(n))\", \"n^2\"],\n",
    "              statistic_name=\"Dn\")"
   ]
  },
  {
   "cell_type": "code",
   "execution_count": null,
   "metadata": {},
   "outputs": [],
   "source": [
    "plotStatistic(values=results[\"Dn-Cn\"], N=results[\"n_urns\"], \n",
    "              functions=[identical, nln, nlnDouble], function_names=[\"n\", \"(n * ln(n))\", \"(n * ln(ln(n)))\"],\n",
    "              statistic_name=\"Dn-Cn\")"
   ]
  },
  {
   "cell_type": "code",
   "execution_count": null,
   "metadata": {},
   "outputs": [],
   "source": []
  }
 ],
 "metadata": {
  "kernelspec": {
   "display_name": "Python 3.9.13 ('mpis')",
   "language": "python",
   "name": "python3"
  },
  "language_info": {
   "codemirror_mode": {
    "name": "ipython",
    "version": 3
   },
   "file_extension": ".py",
   "mimetype": "text/x-python",
   "name": "python",
   "nbconvert_exporter": "python",
   "pygments_lexer": "ipython3",
   "version": "3.9.13"
  },
  "orig_nbformat": 4,
  "vscode": {
   "interpreter": {
    "hash": "e17f86ae1fbb49760de3e3b51b8fcc4244d9ec8148d014cb796b4b061e085bf5"
   }
  }
 },
 "nbformat": 4,
 "nbformat_minor": 2
}
