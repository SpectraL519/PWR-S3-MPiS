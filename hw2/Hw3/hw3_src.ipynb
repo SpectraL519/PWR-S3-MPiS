{
 "cells": [
  {
   "cell_type": "markdown",
   "metadata": {},
   "source": [
    "# Imports"
   ]
  },
  {
   "cell_type": "code",
   "execution_count": null,
   "metadata": {},
   "outputs": [],
   "source": [
    "import numpy as np\n",
    "from scipy.stats import norm, arcsine\n",
    "\n",
    "import matplotlib.pyplot as plt"
   ]
  },
  {
   "cell_type": "markdown",
   "metadata": {},
   "source": [
    "# Function definitions"
   ]
  },
  {
   "cell_type": "code",
   "execution_count": null,
   "metadata": {},
   "outputs": [],
   "source": [
    "N = 5\n",
    "bins = np.arange(-N, N + 2, step=2)\n",
    "bins"
   ]
  },
  {
   "cell_type": "code",
   "execution_count": null,
   "metadata": {},
   "outputs": [],
   "source": [
    "def getSn(N: int, p: int = 0.5) -> int:\n",
    "    return np.sum(np.random.choice([1, -1], p=[p, 1 - p], size=N))\n",
    "\n",
    "getSnVect = np.vectorize(getSn)\n",
    "\n",
    "\n",
    "\n",
    "def getPn(N: int, p: int = 0.5) -> int:\n",
    "    xi_seq = np.insert(np.random.choice([1, -1], p=[p, 1 - p], size=N), 0, 0, axis=0)\n",
    "    Sn = np.cumsum(xi_seq)\n",
    "    Dn = np.zeros(Sn.shape)\n",
    "    for i in np.arange(1, Sn.shape[0]):\n",
    "        if Sn[i] > 0 or Sn[i - 1] > 0: Dn[i] = 1\n",
    "    Ln = np.sum(Dn) # Dn[0] == 0 - doesn't have any impact on the result\n",
    "    return (Ln / N)\n",
    "\n",
    "getPnVect = np.vectorize(getPn)\n",
    "\n",
    "\n",
    "\n",
    "def plotDistribution(N: int, data: np.ndarray, approx: str, filepath: str = None):\n",
    "    fig = plt.figure(figsize=(10, 7))\n",
    "\n",
    "    plt.rcParams.update({'font.size': 15})\n",
    "    \n",
    "    if approx == \"normal\":\n",
    "        plt.title(f\"$S_N$ random variable distribution ($N = {N}$)\")\n",
    "        plt.xlabel(\"$s$ (sum value)\", fontsize=12)\n",
    "        plt.ylabel(\"$P(S_N \\leq s)$\", fontsize=12)\n",
    "\n",
    "        bins = np.arange(-N, N + 2, step=2)\n",
    "        n, _, patches = plt.hist(data, bins=bins, density=True, cumulative=True, label=\"CDF\")\n",
    "        plt.xticks(bins, fontsize=10)\n",
    "        \n",
    "        # Fit a normal distribution plot to the data\n",
    "        mean, std = norm.fit(data) \n",
    "        xmin, xmax = plt.xlim()\n",
    "        x = np.linspace(xmin, xmax, 250)\n",
    "        cdf = norm.cdf(x, mean, std)\n",
    "        plt.plot(x, cdf, color=\"red\", linewidth=2, label=f\"Normal CDF (approximation)\")\n",
    "\n",
    "    elif approx == \"arcsin\":\n",
    "        plt.title(f\"$P_N$ random variable probability density ($N = {N}$)\")\n",
    "        plt.xlabel(\"$p$ (\\\"time fraction\\\")\", fontsize=12)\n",
    "        plt.ylabel(\"$P(P_N = p)$\", fontsize=12)\n",
    "\n",
    "        (n, bins, patches) = plt.hist(data, bins=20, density=True, cumulative=False, label=\"PDF\")\n",
    "        plt.xticks(bins, fontsize=10)\n",
    "\n",
    "        x = np.linspace(0, 1, 250)\n",
    "        pdf = arcsine.pdf(x)\n",
    "        plt.plot(x, pdf, color=\"red\", linewidth=2, label=f\"Arcsin PDF (approximation)\")\n",
    "\n",
    "    else:\n",
    "        print(\"Error: Invalid value of 'approx' - must be 'normal' or 'arcsin'\")\n",
    "        return\n",
    "\n",
    "    plt.legend(prop={\"size\": 12})\n",
    "    fig.tight_layout()\n",
    "    \n",
    "    if filepath:\n",
    "        plt.savefig(filepath)\n",
    "\n",
    "    plt.show();"
   ]
  },
  {
   "cell_type": "markdown",
   "metadata": {},
   "source": [
    "# Exercise 1"
   ]
  },
  {
   "cell_type": "code",
   "execution_count": null,
   "metadata": {},
   "outputs": [],
   "source": [
    "# Genrating random byte sequence\n",
    "with open(\"py_bytes.txt\", 'w') as file:\n",
    "    file.write(''.join(str(np.random.choice([0, 1])) for _ in range(2 * 10 ** 6)))"
   ]
  },
  {
   "cell_type": "markdown",
   "metadata": {},
   "source": [
    "# Exercise 2"
   ]
  },
  {
   "cell_type": "markdown",
   "metadata": {},
   "source": [
    "### Tasks: a, b"
   ]
  },
  {
   "cell_type": "code",
   "execution_count": null,
   "metadata": {},
   "outputs": [],
   "source": [
    "N = np.arange(5, 35, step=5)\n",
    "k = 10000\n",
    "for n in N:\n",
    "    plotDistribution(n, getSnVect(np.full(shape=k, fill_value=n)), approx=\"normal\")\n",
    "                     # filepath=f\"./images/ex2/s{n}_cdf.png\")"
   ]
  },
  {
   "cell_type": "markdown",
   "metadata": {},
   "source": [
    "### Task c"
   ]
  },
  {
   "cell_type": "code",
   "execution_count": null,
   "metadata": {},
   "outputs": [],
   "source": [
    "n = 100\n",
    "k = 10000\n",
    "plotDistribution(n, getSnVect(np.full(shape=k, fill_value=n)), approx=\"normal\")\n",
    "                 # filepath=f\"./images/ex2/s{n}_cdf.png\")"
   ]
  },
  {
   "cell_type": "markdown",
   "metadata": {},
   "source": [
    "# Exercise 3"
   ]
  },
  {
   "cell_type": "code",
   "execution_count": null,
   "metadata": {},
   "outputs": [],
   "source": [
    "N = 10 ** np.arange(2, 5)\n",
    "k = 5000\n",
    "for n in N:\n",
    "    plotDistribution(n, getPnVect(np.full(shape=k, fill_value=n)), approx=\"arcsin\")\n",
    "                     # filepath=f\"./images/ex3/p{n}_pdf.png\")"
   ]
  },
  {
   "cell_type": "code",
   "execution_count": null,
   "metadata": {},
   "outputs": [],
   "source": []
  }
 ],
 "metadata": {
  "kernelspec": {
   "display_name": "Python 3.9.13 ('mpis')",
   "language": "python",
   "name": "python3"
  },
  "language_info": {
   "codemirror_mode": {
    "name": "ipython",
    "version": 3
   },
   "file_extension": ".py",
   "mimetype": "text/x-python",
   "name": "python",
   "nbconvert_exporter": "python",
   "pygments_lexer": "ipython3",
   "version": "3.9.13"
  },
  "orig_nbformat": 4,
  "vscode": {
   "interpreter": {
    "hash": "e17f86ae1fbb49760de3e3b51b8fcc4244d9ec8148d014cb796b4b061e085bf5"
   }
  }
 },
 "nbformat": 4,
 "nbformat_minor": 2
}
